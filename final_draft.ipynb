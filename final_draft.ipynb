{
  "cells": [
    {
      "cell_type": "code",
      "execution_count": null,
      "id": "afa76df1",
      "metadata": {
        "id": "afa76df1"
      },
      "outputs": [],
      "source": [
        "import pandas as pd\n",
        "import numpy as np\n",
        "import torch\n",
        "import torch.nn as nn\n",
        "import torch.optim as optim\n",
        "from sklearn.preprocessing import MinMaxScaler\n",
        "import matplotlib.pyplot as plt\n"
      ]
    },
    {
      "cell_type": "code",
      "execution_count": null,
      "id": "a7eb2508",
      "metadata": {
        "id": "a7eb2508"
      },
      "outputs": [],
      "source": [
        "\n",
        "# Load data from Excel sheet\n",
        "def load_data_from_excel(file_path):\n",
        "    df = pd.read_excel(file_path)\n",
        "    return df\n",
        "\n",
        "# Sample data preparation\n",
        "data_path = '/content/consolidated data.xlsx'\n",
        "df = load_data_from_excel(data_path)\n"
      ]
    },
    {
      "cell_type": "code",
      "source": [
        "# Splitting data into features (X) and target variables (y)\n",
        "X = df[['speed', 'distance', 'remainingrange', 'batteryvoltage', 'batterycurrent', 'cellmaxvoltage', 'cellminvoltage', 'mcu_dcvoltage', 'mcu_dccurrent', 'mcu_acrmscurrent', 'mcu_speed', 'mcu_temperature']].values\n",
        "y_soh = df['batterysoh'].values.reshape(-1, 1)\n",
        "y_soc = df['batterysoc'].values.reshape(-1, 1)\n",
        "\n",
        "# Scaling features and target variables\n",
        "scaler_X = MinMaxScaler()\n",
        "scaler_y_soh = MinMaxScaler()\n",
        "scaler_y_soc = MinMaxScaler()\n",
        "X_scaled = scaler_X.fit_transform(X)\n",
        "y_scaled_soh = scaler_y_soh.fit_transform(y_soh)\n",
        "y_scaled_soc = scaler_y_soc.fit_transform(y_soc)\n",
        "\n",
        "# Convert data to PyTorch tensors\n",
        "X_tensor = torch.tensor(X_scaled, dtype=torch.float32)\n",
        "y_soh_tensor = torch.tensor(y_scaled_soh, dtype=torch.float32)\n",
        "y_soc_tensor = torch.tensor(y_scaled_soc, dtype=torch.float32)\n"
      ],
      "metadata": {
        "id": "VGFrDI8Ma3f9"
      },
      "id": "VGFrDI8Ma3f9",
      "execution_count": null,
      "outputs": []
    },
    {
      "cell_type": "code",
      "source": [
        "# Define the LSTM model\n",
        "class LSTMModel(nn.Module):\n",
        "    def __init__(self, input_size, hidden_size, output_size):\n",
        "        super(LSTMModel, self).__init__()\n",
        "        self.hidden_size = hidden_size\n",
        "        self.lstm = nn.LSTM(input_size, hidden_size)\n",
        "        self.fc_soh = nn.Linear(hidden_size, output_size)\n",
        "        self.fc_soc = nn.Linear(hidden_size, output_size)\n",
        "\n",
        "    def forward(self, x):\n",
        "        lstm_out, _ = self.lstm(x.view(len(x), 1, -1))\n",
        "        lstm_out = lstm_out.view(-1, self.hidden_size)  # Flatten the LSTM output\n",
        "        output_soh = self.fc_soh(lstm_out)\n",
        "        output_soc = self.fc_soc(lstm_out)\n",
        "        return output_soh, output_soc\n",
        "\n"
      ],
      "metadata": {
        "id": "tY8Xu_e_bmek"
      },
      "id": "tY8Xu_e_bmek",
      "execution_count": null,
      "outputs": []
    },
    {
      "cell_type": "code",
      "source": [
        "# Initialize the model\n",
        "input_size = X_tensor.shape[1]\n",
        "hidden_size = 50\n",
        "output_size = 1  # Output size for SoH and SoC\n",
        "model = LSTMModel(input_size, hidden_size, output_size)\n",
        "\n",
        "# Define loss function and optimizer\n",
        "criterion = nn.MSELoss()\n",
        "optimizer = optim.Adam(model.parameters(), lr=0.001)\n",
        "\n",
        "\n",
        "# Training the model\n",
        "num_epochs = 100\n",
        "for epoch in range(num_epochs):\n",
        "    model.train()\n",
        "    optimizer.zero_grad()\n",
        "    output_soh, output_soc = model(X_tensor)\n",
        "    loss_soh = criterion(output_soh, y_soh_tensor)\n",
        "    loss_soc = criterion(output_soc, y_soc_tensor)\n",
        "    loss = loss_soh + loss_soc\n",
        "    loss.backward()\n",
        "    optimizer.step()\n",
        "    if (epoch + 1) % 10 == 0:\n",
        "        print(f'Epoch [{epoch+1}/{num_epochs}], SoH Loss: {loss_soh.item():.4f}, SoC Loss: {loss_soc.item():.4f}')\n"
      ],
      "metadata": {
        "id": "MH21YU4rbphS",
        "colab": {
          "base_uri": "https://localhost:8080/"
        },
        "outputId": "27a1e002-2ddf-4371-9828-f81c31ff5cc7"
      },
      "id": "MH21YU4rbphS",
      "execution_count": null,
      "outputs": [
        {
          "output_type": "stream",
          "name": "stdout",
          "text": [
            "Epoch [10/100], SoH Loss: 0.0712, SoC Loss: 0.2871\n",
            "Epoch [20/100], SoH Loss: 0.0061, SoC Loss: 0.0511\n",
            "Epoch [30/100], SoH Loss: 0.0076, SoC Loss: 0.0538\n",
            "Epoch [40/100], SoH Loss: 0.0068, SoC Loss: 0.0555\n",
            "Epoch [50/100], SoH Loss: 0.0056, SoC Loss: 0.0498\n",
            "Epoch [60/100], SoH Loss: 0.0057, SoC Loss: 0.0500\n",
            "Epoch [70/100], SoH Loss: 0.0055, SoC Loss: 0.0489\n",
            "Epoch [80/100], SoH Loss: 0.0054, SoC Loss: 0.0483\n",
            "Epoch [90/100], SoH Loss: 0.0054, SoC Loss: 0.0478\n",
            "Epoch [100/100], SoH Loss: 0.0053, SoC Loss: 0.0471\n"
          ]
        }
      ]
    },
    {
      "cell_type": "code",
      "source": [],
      "metadata": {
        "id": "Lin-qtRcJupY"
      },
      "id": "Lin-qtRcJupY",
      "execution_count": null,
      "outputs": []
    },
    {
      "cell_type": "code",
      "source": [
        "import torch\n",
        "\n",
        "# Load model architecture information\n",
        "model_info = torch.load(\"lstm_model_info.pth\")\n",
        "\n",
        "# Reinitialize the model with the same architecture\n",
        "model = LSTMModel(model_info['input_size'], model_info['hidden_size'], model_info['output_size'])\n",
        "\n",
        "# Load model state dictionary\n",
        "model.load_state_dict(torch.load(\"lstm_model.pth\"))\n",
        "model.eval()  # Set the model to evaluation mode\n"
      ],
      "metadata": {
        "colab": {
          "base_uri": "https://localhost:8080/"
        },
        "id": "sHKCYwfye6h-",
        "outputId": "60f128cb-07c1-492c-8da1-3e91a8172437"
      },
      "id": "sHKCYwfye6h-",
      "execution_count": null,
      "outputs": [
        {
          "output_type": "execute_result",
          "data": {
            "text/plain": [
              "LSTMModel(\n",
              "  (lstm): LSTM(12, 50)\n",
              "  (fc_soh): Linear(in_features=50, out_features=1, bias=True)\n",
              "  (fc_soc): Linear(in_features=50, out_features=1, bias=True)\n",
              ")"
            ]
          },
          "metadata": {},
          "execution_count": 30
        }
      ]
    },
    {
      "cell_type": "code",
      "source": [
        "model = torch.load('LSTM_MODEL.pth')"
      ],
      "metadata": {
        "id": "s__T1fm6LyAN"
      },
      "id": "s__T1fm6LyAN",
      "execution_count": null,
      "outputs": []
    },
    {
      "cell_type": "markdown",
      "source": [],
      "metadata": {
        "id": "BDH1ZE79YmgF"
      },
      "id": "BDH1ZE79YmgF"
    },
    {
      "cell_type": "code",
      "source": [
        "\n",
        "# Manually input new data\n",
        "new_data = np.array([[\n",
        "    float(input(\"Enter speed: \")),\n",
        "    float(input(\"Enter distance: \")),\n",
        "    float(input(\"Enter remaining range: \")),\n",
        "    float(input(\"Enter battery voltage: \")),\n",
        "    float(input(\"Enter battery current: \")),\n",
        "    float(input(\"Enter cell max voltage: \")),\n",
        "    float(input(\"Enter cell min voltage: \")),\n",
        "    float(input(\"Enter MCU DC voltage: \")),\n",
        "    float(input(\"Enter MCU DC current: \")),\n",
        "    float(input(\"Enter MCU AC rms current: \")),\n",
        "    float(input(\"Enter MCU speed: \")),\n",
        "    float(input(\"Enter MCU temperature: \"))\n",
        "]])\n",
        "\n",
        "# Scale the input data\n",
        "new_data_scaled = scaler_X.transform(new_data)\n",
        "new_data_tensor = torch.tensor(new_data_scaled, dtype=torch.float32)\n",
        "\n",
        "# Predicting SoH and SoC for new data\n",
        "with torch.no_grad():\n",
        "    predicted_soh, predicted_soc = model(new_data_tensor)\n",
        "    predicted_soh_unscaled = scaler_y_soh.inverse_transform(predicted_soh.reshape(-1, 1))\n",
        "    predicted_soc_unscaled = scaler_y_soc.inverse_transform(predicted_soc.reshape(-1, 1))\n",
        "\n"
      ],
      "metadata": {
        "colab": {
          "base_uri": "https://localhost:8080/"
        },
        "id": "xQVW8jxzbs-N",
        "outputId": "a104d6c5-e30a-4f35-d15a-676be47c7e68"
      },
      "id": "xQVW8jxzbs-N",
      "execution_count": null,
      "outputs": [
        {
          "name": "stdout",
          "output_type": "stream",
          "text": [
            "Enter speed: 1\n",
            "Enter distance: 2\n",
            "Enter remaining range: 12\n",
            "Enter battery voltage: 4\n",
            "Enter battery current: 5\n",
            "Enter cell max voltage: 2\n",
            "Enter cell min voltage: 3\n",
            "Enter MCU DC voltage: 4\n",
            "Enter MCU DC current: 4\n",
            "Enter MCU AC rms current: 21\n",
            "Enter MCU speed: 32\n",
            "Enter MCU temperature: 23\n"
          ]
        }
      ]
    },
    {
      "cell_type": "code",
      "source": [
        "# Print the predicted SOC and SOH\n",
        "print(f'Predicted SOH: {predicted_soh_unscaled.item()}')\n",
        "print(f'Predicted SOC: {predicted_soc_unscaled.item()}')\n",
        "\n",
        "# Calculate RMSE for SOH\n",
        "rmse_soh = torch.sqrt(criterion(predicted_soh, y_soh_tensor)).item()\n",
        "print(f'RMSE for SOH: {rmse_soh:.4f}')\n",
        "\n",
        "# Calculate RMSE for SOC\n",
        "rmse_soc = torch.sqrt(criterion(predicted_soc, y_soc_tensor)).item()\n",
        "print(f'RMSE for SOC: {rmse_soc:.4f}')"
      ],
      "metadata": {
        "colab": {
          "base_uri": "https://localhost:8080/"
        },
        "id": "UDhGXz3pbw0k",
        "outputId": "3d5f62c9-caa2-44b7-e279-ad455794c919"
      },
      "id": "UDhGXz3pbw0k",
      "execution_count": null,
      "outputs": [
        {
          "output_type": "stream",
          "name": "stdout",
          "text": [
            "Predicted SOH: 10.133331030607224\n",
            "Predicted SOC: 6.049779057502747\n",
            "RMSE for SOH: 0.3294\n",
            "RMSE for SOC: 0.6254\n"
          ]
        },
        {
          "output_type": "stream",
          "name": "stderr",
          "text": [
            "/usr/local/lib/python3.10/dist-packages/torch/nn/modules/loss.py:535: UserWarning: Using a target size (torch.Size([1241, 1])) that is different to the input size (torch.Size([1, 1])). This will likely lead to incorrect results due to broadcasting. Please ensure they have the same size.\n",
            "  return F.mse_loss(input, target, reduction=self.reduction)\n"
          ]
        }
      ]
    }
  ],
  "metadata": {
    "kernelspec": {
      "display_name": "Python 3",
      "name": "python3"
    },
    "language_info": {
      "codemirror_mode": {
        "name": "ipython",
        "version": 3
      },
      "file_extension": ".py",
      "mimetype": "text/x-python",
      "name": "python",
      "nbconvert_exporter": "python",
      "pygments_lexer": "ipython3",
      "version": "3.11.5"
    },
    "colab": {
      "provenance": [],
      "gpuType": "T4"
    },
    "accelerator": "GPU"
  },
  "nbformat": 4,
  "nbformat_minor": 5
}